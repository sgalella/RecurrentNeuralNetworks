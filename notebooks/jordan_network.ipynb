{
 "cells": [
  {
   "cell_type": "markdown",
   "metadata": {},
   "source": [
    "# Jordan Network\n",
    "\n",
    "The Jordan network [[1]](#References) is similar to the Elman Network [[2]](#References). It formed as well by four different neural layers: the *input layer*, the *hidden layers*, and the *output layer*. It has also a *context layer*, however it receives the output as input. In comparison, the recurrency in the Elman Network was located in the hidden layer.\n",
    "\n",
    "<p align=\"center\">\n",
    "    <img width=\"400\" height=\"300\"src=\"../images/architecture_jordan.png\">\n",
    "</p>\n",
    "\n",
    "The context layer allows the detection temporal dependencies between consecutive states. Training is straightforward using the *backpropagation algorithm*, provided the possible simplification of the architecture to:\n",
    "\n",
    "\n",
    "<p align=\"center\">\n",
    "    <img width=\"400\" height=\"300\"src=\"../images/unrolling_jordan.png\">\n",
    "</p>\n",
    "\n",
    "Where context units are added to the input layer. Dashed weights from the output layer to the context layer are not trained and are fixed to 1. In other words, we will use the previous states of the output units as context without any modification. Also, the context units are set to 0.5 in the first iteration.\n",
    "\n",
    "In this notebook, we will assess the performance of the Jordan network replicating the Exclusive-OR study carried on in [[2]](#References), previously done in the Elman notebook."
   ]
  },
  {
   "cell_type": "markdown",
   "metadata": {},
   "source": [
    "\n",
    "## Exclusive-OR (XOR)\n",
    "\n",
    "The XOR gate produces 1 whenever the inputs are different, 0 otherwise:\n",
    "\n",
    "<p align=\"center\">\n",
    "    <img width=\"200\" height=\"100\"src=\"../images/xor_gate.png\">\n",
    "</p>\n",
    "\n",
    "\n",
    "If we were to use a feedforward neural network to produce the XOR between two outputs, we would need to use at least one hidden layer. We can use an Elman Network to learn the XOR; however we have first to translate the problem into the temporal domain. To do so, we will concatenate the inputs and outputs, forming a vector as represented:\n",
    "\n",
    "<p align=\"center\">\n",
    "    <img width=\"400\" height=\"350\"src=\"../images/gate_to_vec.png\">\n",
    "</p>\n",
    "\n",
    "Where the vector corresponds to the concatenated version of the XOR gate depicted above. We will concatenate multiple XOR, in random order for training. The task of the network will be to predict the following state; thus we will use the same vector for testing, but displaced one position to the right:\n",
    "\n",
    "<p align=\"center\">\n",
    "    <img width=\"380\" height=\"300\"src=\"../images/train_test.png\">\n",
    "</p>\n"
   ]
  },
  {
   "cell_type": "code",
   "execution_count": 1,
   "metadata": {},
   "outputs": [],
   "source": [
    "# Add temporary path to code\n",
    "import sys\n",
    "sys.path.append(\"../recurrent_neural_networks/\")\n",
    "\n",
    "# Import dependencies\n",
    "import numpy as np\n",
    "import matplotlib.pyplot as plt\n",
    "from tqdm import tqdm\n",
    "from utils import create_xor_data\n",
    "from jordan_network import JordanNetwork\n",
    "\n",
    "# Random seed (for reproducibility)\n",
    "np.random.seed(4321)"
   ]
  },
  {
   "cell_type": "markdown",
   "metadata": {},
   "source": [
    "We will use the function `create_xor_data` to create the unidimensional XOR input. The argument corresponds to the number of permutations of the XOR, having 12 bits each. In [[1]](#References), 3000 bits are used for training, therefore we will use 250 permutations, $250 \\times 12 = 3000$."
   ]
  },
  {
   "cell_type": "code",
   "execution_count": 2,
   "metadata": {},
   "outputs": [
    {
     "name": "stdout",
     "output_type": "stream",
     "text": [
      "X_train: [ 1 1 0 1 0 1 0 1 1 0 0 0 ... 0 0 0 1 0 1 1 1 0 0 1 1 ]\n",
      "y_train: [ 1 0 1 0 1 0 1 1 0 0 0 0 ... 0 0 1 0 1 1 1 0 0 1 1 1 ]\n"
     ]
    }
   ],
   "source": [
    "X_train, y_train  = create_xor_data(250)\n",
    "\n",
    "print(\"X_train: [\", *X_train[:12], \"...\", *X_train[-12:], \"]\")\n",
    "print(\"y_train: [\", *y_train[:12], \"...\", *y_train[-12:], \"]\")"
   ]
  },
  {
   "cell_type": "code",
   "execution_count": 3,
   "metadata": {},
   "outputs": [
    {
     "name": "stdout",
     "output_type": "stream",
     "text": [
      "JordanNetwork(Inputs=1, Hidden=2, Contextual=1, Outputs=1)\n"
     ]
    }
   ],
   "source": [
    "# Initialize the network\n",
    "net = JordanNetwork(num_inputs=1, num_hidden=2, num_context=1, num_outputs=1)\n",
    "\n",
    "print(net)"
   ]
  },
  {
   "cell_type": "markdown",
   "metadata": {},
   "source": [
    "Next, we train the network during 600 passes (or epochs)."
   ]
  },
  {
   "cell_type": "code",
   "execution_count": 4,
   "metadata": {
    "scrolled": true
   },
   "outputs": [
    {
     "name": "stderr",
     "output_type": "stream",
     "text": [
      "100%|██████████| 1500/1500 [08:05<00:00,  3.09it/s]\n"
     ]
    }
   ],
   "source": [
    "# Training\n",
    "net.train(inputs=X_train, outputs=y_train, learning_rate=2, passes=1500)"
   ]
  },
  {
   "cell_type": "markdown",
   "metadata": {},
   "source": [
    "Finally, we will test the network. To do so, we create new data of 12 bits and calculate the squared error, averaging 1200 cycles. Then we plot the error for each bit position."
   ]
  },
  {
   "cell_type": "code",
   "execution_count": 5,
   "metadata": {
    "scrolled": true
   },
   "outputs": [
    {
     "name": "stderr",
     "output_type": "stream",
     "text": [
      "100%|██████████| 1200/1200 [00:00<00:00, 1254.24it/s]\n"
     ]
    }
   ],
   "source": [
    "#Testing\n",
    "num_cycles = 1200\n",
    "period = 12\n",
    "cycles = np.zeros((num_cycles, period))\n",
    "for cycle in tqdm(range(num_cycles)):\n",
    "    X_test, y_test = create_xor_data(1)\n",
    "    cycles[cycle, :] = net.predict(X_test, y_test)"
   ]
  },
  {
   "cell_type": "code",
   "execution_count": 6,
   "metadata": {
    "scrolled": true
   },
   "outputs": [
    {
     "data": {
      "image/png": "[encoded data removed]",
      "text/plain": [
       "<Figure size 432x288 with 1 Axes>"
      ]
     },
     "metadata": {
      "needs_background": "light"
     },
     "output_type": "display_data"
    }
   ],
   "source": [
    "mean_cycles = np.mean(cycles, axis=0)\n",
    "plt.plot(range(1, 13), mean_cycles)\n",
    "plt.plot([2, 5, 8, 11], mean_cycles[[1, 4, 7, 10]], 'r.', markersize=10)\n",
    "plt.xlabel('Bit position', fontsize=12)\n",
    "plt.ylabel('Squared error', fontsize=12)\n",
    "plt.xlim([0, 13])\n",
    "plt.xticks(range(0,14))\n",
    "plt.ylim([0, 0.5])\n",
    "plt.grid(alpha=0.5)\n",
    "plt.show()"
   ]
  },
  {
   "cell_type": "markdown",
   "metadata": {},
   "source": [
    "We have highlighted bits 2, 5, 8, and 11, as they compute the XOR output. Here, the squared errors are smaller in comparison with the rest of the bit positions. When the network receives the first input, let's say 0, its prediction will be random since the next bit can be either 0 or 1. However, after the second input, if the network has learned the XOR, there can be only one result. For example, if the second input is 1, having already 0 and 1, we know that the next will be 1. The same will happen for the following inputs."
   ]
  },
  {
   "cell_type": "markdown",
   "metadata": {},
   "source": [
    "## References\n",
    "\n",
    "1. [Serial Order: A Parallel Distributed Processing Approach](https://www.sciencedirect.com/science/article/pii/S0166411597801112)\n",
    "1. [Finding Structure in Time](https://crl.ucsd.edu/~elman/Papers/fsit.pdf)"
   ]
  }
 ],
 "metadata": {
  "kernelspec": {
   "display_name": "Python 3.6.10 64-bit ('py36': conda)",
   "language": "python",
   "name": "python361064bitpy36conda18df730f2d0841c3afab0c6447ed77d8"
  },
  "language_info": {
   "codemirror_mode": {
    "name": "ipython",
    "version": 3
   },
   "file_extension": ".py",
   "mimetype": "text/x-python",
   "name": "python",
   "nbconvert_exporter": "python",
   "pygments_lexer": "ipython3",
   "version": "3.6.10"
  }
 },
 "nbformat": 4,
 "nbformat_minor": 4
}

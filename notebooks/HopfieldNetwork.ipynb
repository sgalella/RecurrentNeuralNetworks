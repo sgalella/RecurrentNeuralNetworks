{
 "cells": [
  {
   "cell_type": "markdown",
   "metadata": {},
   "source": [
    "# Hopfield Network\n",
    "\n",
    "Hopfield networks [[1]](#References) are recurrent neural networks that can memorize configurations of neural states. The structure of a Hopfield network can be represented as follows:\n",
    "\n",
    "<p align=\"center\">\n",
    "    <img width=300 height=300 src=\"../images/architecture_hopfield.png\">\n",
    "</p>\n",
    "\n",
    "All the units forming the network are connected with each other, which can be understood as a complete undirected graph. At the same time, units work both as inputs and outputs.\n",
    "\n",
    "Hopfield networks can be used to store any kind of pattern involving _not firing_ neurons ($V_{i} = 0$) and _firing_ neurons ($V_{i} = 1$), where $V_i$ represents the state of neuron $i$. For example, a pattern for a network with 5 neurons can be $V = [1, 0, 0, 0, 1]$, where neuron $i = 1$ and $i = 5$ are firing. The ability of Hopfield networks to recall state configurations resides in its connectivity matrix. States are embedded into the weight matrix of the network as follows:\n",
    "\n",
    "$$\n",
    "W = \\sum_{s} (2 V^{(s)} - 1) (2 V^{(s) T} - 1),\n",
    "$$\n",
    "\n",
    "where $s$ is the number of patterns to store. The main diagonal of $W$ is kept at 0 – neurons are not connected to themselves. \n",
    "\n",
    "Given any initial configuration, how does the network manage to find any of the configurations stored in $W$? The answer is the energy of the system. \n",
    "\n",
    "Let's suppose the network is in a given state $\\tilde{V}$. The energy can be calculated as:\n",
    "\n",
    "$$\n",
    "E = -\\frac{1}{2}  \\tilde{V} W \\tilde{V}^T \n",
    "$$\n",
    "\n",
    "The lower the energy, the closest the current configuration to one of the patterns. Since each of the patterns in $V^{(s)}$ is associated to different energies, they can be understood as attractors. The network can end in a configuration not found in the initial patterns, but resulting in a combination of two or more. These configurations are known as spurious states, and can be interpreted as local minima.\n",
    "\n",
    "The update rule of neurons is defined as:\n",
    "\n",
    "$$\n",
    "V_{i} = W_{i} \\tilde{V},\n",
    "$$\n",
    "\n",
    "where $W_{i}$ represents the row $i$. If $V_{i} \\geq 0$, $V_{i} \\leftarrow 1$ and 0 otherwise. Since the update is produced a neuron at a time, the update is known as asynchronous.\n"
   ]
  },
  {
   "cell_type": "markdown",
   "metadata": {},
   "source": [
    "## Vowel encoding\n",
    "\n",
    "We will use Hopfield networks to encode and retrieve vowels. We can encode vowels by rearranging the states into a squared matrix:\n",
    "\n",
    "<p align=\"center\">\n",
    "    <img width=600 height=550 src=\"../images/state_vectors.png\">\n",
    "</p>\n",
    "\n",
    "The network will be formed by 25 neurons, representing each of the vowels in a 5 by 5 grid:\n",
    "\n",
    "<p align=\"center\">\n",
    "    <img width=700 height=550 src=\"../images/vowels.png\">\n",
    "</p>"
   ]
  },
  {
   "cell_type": "code",
   "execution_count": 1,
   "metadata": {},
   "outputs": [],
   "source": [
    "# Add temporary path to code\n",
    "import sys\n",
    "sys.path.append(\"../recurrent_neural_networks/\")\n",
    "\n",
    "# Import dependencies\n",
    "import numpy as np\n",
    "import matplotlib.pyplot as plt\n",
    "from hopfield_network import HopfieldNetwork\n",
    "from utils import get_state_vowel\n",
    "\n",
    "# Random seed (for reproducibility)\n",
    "np.random.seed(1234)"
   ]
  },
  {
   "cell_type": "markdown",
   "metadata": {},
   "source": [
    "Function `get_state_vowel` from utils returns the state for the vowel passed as argument. All patterns are stored in a matrix and passed to the network.\n",
    "\n",
    "To mantain the number of updates for each neuron, each will be updated exactly once per pass. "
   ]
  },
  {
   "cell_type": "code",
   "execution_count": 2,
   "metadata": {},
   "outputs": [
    {
     "data": {
      "image/png": "[encoded data removed]",
      "text/plain": [
       "<Figure size 576x288 with 6 Axes>"
      ]
     },
     "metadata": {
      "needs_background": "light"
     },
     "output_type": "display_data"
    },
    {
     "data": {
      "image/png": "[encoded data removed]",
      "text/plain": [
       "<Figure size 576x288 with 1 Axes>"
      ]
     },
     "metadata": {
      "needs_background": "light"
     },
     "output_type": "display_data"
    }
   ],
   "source": [
    "# Run Hopfield network\n",
    "patterns = np.array([get_state_vowel('A'),\n",
    "                         get_state_vowel('E'),\n",
    "                         get_state_vowel('I'),\n",
    "                         get_state_vowel('O'),\n",
    "                         get_state_vowel('U')])\n",
    "net = HopfieldNetwork(patterns)\n",
    "net.run()\n",
    "\n",
    "# Plot patterns and output\n",
    "plt.figure(figsize=(8, 4), tight_layout=True)\n",
    "plt.subplot(2, 3, 1)\n",
    "plt.imshow(np.reshape(patterns[0, :], (5, 5)), cmap=\"Greys_r\")\n",
    "plt.title(\"A\")\n",
    "plt.subplot(2, 3, 2)\n",
    "plt.imshow(np.reshape(patterns[1, :], (5, 5)), cmap=\"Greys_r\")\n",
    "plt.title(\"E\")\n",
    "plt.subplot(2, 3, 3)\n",
    "plt.imshow(np.reshape(patterns[2, :], (5, 5)), cmap=\"Greys_r\")\n",
    "plt.title(\"I\")\n",
    "plt.subplot(2, 3, 4)\n",
    "plt.imshow(np.reshape(patterns[3, :], (5, 5)), cmap=\"Greys_r\")\n",
    "plt.title(\"O\")\n",
    "plt.subplot(2, 3, 5)\n",
    "plt.imshow(np.reshape(patterns[4, :], (5, 5)), cmap=\"Greys_r\")\n",
    "plt.title(\"U\")\n",
    "plt.subplot(2, 3, 6)\n",
    "plt.imshow(np.reshape(net.state_units, (5, 5)), cmap=\"Greys_r\")\n",
    "plt.title(\"Output\")\n",
    "\n",
    "# Plot energy over time\n",
    "plt.figure(figsize=(8, 4))\n",
    "plt.plot(range(net.passes * net.num_units + 1), net.energy)\n",
    "plt.title(\"Energy over updates\", fontsize=15)\n",
    "plt.xlabel(\"Updates\", fontsize=12)\n",
    "plt.ylabel(r\"$\\Delta E$\", fontsize=12)\n",
    "plt.show()\n"
   ]
  },
  {
   "cell_type": "markdown",
   "metadata": {},
   "source": [
    "The seed has been fixed for reproducibility. To obtain different results, change it for another one. _Updates_ in the energy plot refer to the times a neuron is chosen for update. Therefore, the number of total updates will be `num_units` $\\times$ `num_passes` + 1 (since we check the energy of the initial configuration). Note that updates are independent of whether the neuron has changed its past \n",
    "\n",
    "After embedding the five different states from the vowels, we can see that the network converges towards vowel \"O\". In this case, the network has been capable of retrieving exactly one of the initial patterns. For other initial conditions, we may reach one of the rest. As mentioned before, we can even get something in between those patterns. "
   ]
  },
  {
   "cell_type": "markdown",
   "metadata": {},
   "source": [
    "## References\n",
    "\n",
    "\n",
    "1. [Neural networks and physical systems with emergent collective computational abilities](https://www.pnas.org/content/79/8/2554)\n",
    "\n",
    "## Other resources\n",
    "\n",
    "[Hopfield Networks](http://web.cs.ucla.edu/~rosen/161/notes/hopfield.html)"
   ]
  }
 ],
 "metadata": {
  "kernelspec": {
   "display_name": "Python 3.6.10 64-bit ('py36': conda)",
   "language": "python",
   "name": "python361064bitpy36conda18df730f2d0841c3afab0c6447ed77d8"
  },
  "language_info": {
   "codemirror_mode": {
    "name": "ipython",
    "version": 3
   },
   "file_extension": ".py",
   "mimetype": "text/x-python",
   "name": "python",
   "nbconvert_exporter": "python",
   "pygments_lexer": "ipython3",
   "version": "3.6.10"
  }
 },
 "nbformat": 4,
 "nbformat_minor": 4
}
